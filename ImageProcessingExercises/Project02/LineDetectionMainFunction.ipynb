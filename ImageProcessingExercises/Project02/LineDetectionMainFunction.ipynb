{
 "cells": [
  {
   "cell_type": "code",
   "execution_count": 16,
   "metadata": {},
   "outputs": [],
   "source": [
    "import cv2\n",
    "import numpy as np\n",
    "import matplotlib.pylab as plt\n",
    "\n",
    "def detect_line(img):\n",
    "    image = cv2.cvtColor(img, cv2.COLOR_BGR2RGBA)\n",
    "    gray_image = cv2.cvtColor(image, cv2.COLOR_RGB2GRAY)\n",
    "    canny_image = cv2.Canny(gray_image, 100, 200)\n",
    "    image_heigth = image.shape[0]\n",
    "    image_width = image.shape[1]\n",
    "    region_of_interest_vertices = [\n",
    "        (0, image_heigth),\n",
    "        (image_width/2, image_heigth/2),\n",
    "        (image_width, image_heigth)\n",
    "    ]\n",
    "    mask = np.zeros_like(canny_image)\n",
    "    match_mask_color = 255\n",
    "    cv2.fillPoly(mask, np.array([region_of_interest_vertices], np.int32), match_mask_color)\n",
    "    masked_image = cv2.bitwise_and(canny_image, mask)\n",
    "    lines = cv2.HoughLinesP(masked_image,\n",
    "                        rho=2,\n",
    "                        theta=np.pi/60,\n",
    "                        threshold=130,\n",
    "                        lines=np.array([]),\n",
    "                        minLineLength=40,\n",
    "                        maxLineGap=25)\n",
    "    rimg = np.copy(image)\n",
    "    blank_image = np.zeros((rimg.shape[0], rimg.shape[1], rimg.shape[2]), dtype=np.uint8)\n",
    "    if lines is not None:\n",
    "        for line in lines:\n",
    "            # coordinates of lines\n",
    "            for x1, y1, x2, y2 in line:\n",
    "                cv2.line(blank_image,            # resmin üzerinde yazılacak\n",
    "                        (x1, y1),       # çizginin başlangıç koordinatı\n",
    "                        (x2, y2),       # çizginin ikinci koordinatı\n",
    "                        (0,0,255),      # çizgi rengi\n",
    "                        thickness=2)    # kalınlığı\n",
    "    rimg = cv2.addWeighted(rimg, 0.8, blank_image, 1, 0.0)\n",
    "    return rimg        \n"
   ]
  },
  {
   "cell_type": "code",
   "execution_count": 14,
   "metadata": {},
   "outputs": [],
   "source": [
    "def detect_line_from_path(img_Path):\n",
    "    image = cv2.imread(img_Path)\n",
    "    image = cv2.cvtColor(image, cv2.COLOR_BGR2RGBA)\n",
    "    gray_image = cv2.cvtColor(image, cv2.COLOR_RGB2GRAY)\n",
    "    canny_image = cv2.Canny(gray_image, 100, 200)\n",
    "    image_heigth = image.shape[0]\n",
    "    image_width = image.shape[1]\n",
    "    region_of_interest_vertices = [\n",
    "        (0, image_heigth),\n",
    "        (image_width/2, image_heigth/2),\n",
    "        (image_width, image_heigth)\n",
    "    ]\n",
    "    mask = np.zeros_like(canny_image)\n",
    "    match_mask_color = 255\n",
    "    cv2.fillPoly(mask, np.array([region_of_interest_vertices], np.int32), match_mask_color)\n",
    "    masked_image = cv2.bitwise_and(canny_image, mask)\n",
    "    lines = cv2.HoughLinesP(masked_image,\n",
    "                        rho=2,\n",
    "                        theta=np.pi/60,\n",
    "                        threshold=130,\n",
    "                        lines=np.array([]),\n",
    "                        minLineLength=40,\n",
    "                        maxLineGap=25)\n",
    "    img = np.copy(image)\n",
    "    blank_image = np.zeros((img.shape[0], img.shape[1], img.shape[2]), dtype=np.uint8)\n",
    "    if lines is not None:\n",
    "        for line in lines:\n",
    "            # coordinates of lines\n",
    "            for x1, y1, x2, y2 in line:\n",
    "                cv2.line(blank_image,            # resmin üzerinde yazılacak\n",
    "                        (x1, y1),       # çizginin başlangıç koordinatı\n",
    "                        (x2, y2),       # çizginin ikinci koordinatı\n",
    "                        (255,0,0),      # çizgi rengi\n",
    "                        thickness=2)    # kalınlığı\n",
    "    img = cv2.addWeighted(img, 0.8, blank_image, 1, 0.0)\n",
    "    return img        \n"
   ]
  },
  {
   "attachments": {},
   "cell_type": "markdown",
   "metadata": {},
   "source": [
    "Detect line fonksiyonunu videoda denemek"
   ]
  },
  {
   "cell_type": "code",
   "execution_count": 18,
   "metadata": {},
   "outputs": [],
   "source": [
    "input_video = cv2.VideoCapture(\"video\\\\DashCam3.mp4\")\n",
    "\n",
    "while input_video.isOpened():\n",
    "    ret, frame = input_video.read()\n",
    "    cv2.imshow(\"Result\", detect_line(frame))\n",
    "\n",
    "    key = cv2.waitKey(10)\n",
    "    if key == 27:\n",
    "        cv2.destroyAllWindows()\n",
    "        break"
   ]
  }
 ],
 "metadata": {
  "kernelspec": {
   "display_name": "Python 3",
   "language": "python",
   "name": "python3"
  },
  "language_info": {
   "codemirror_mode": {
    "name": "ipython",
    "version": 3
   },
   "file_extension": ".py",
   "mimetype": "text/x-python",
   "name": "python",
   "nbconvert_exporter": "python",
   "pygments_lexer": "ipython3",
   "version": "3.11.2"
  },
  "orig_nbformat": 4
 },
 "nbformat": 4,
 "nbformat_minor": 2
}
