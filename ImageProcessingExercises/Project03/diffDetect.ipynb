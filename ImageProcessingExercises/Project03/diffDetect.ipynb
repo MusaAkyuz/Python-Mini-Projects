{
 "cells": [
  {
   "cell_type": "code",
   "execution_count": 23,
   "metadata": {},
   "outputs": [],
   "source": [
    "import threading\n",
    "import numpy as np\n",
    "import cv2\n",
    "from PIL import Image, ImageTk\n",
    "from tkinter import Tk, Frame, Button, BOTH, Label, Scale, Radiobutton       # Graphical User Inetrface Stuff\n",
    "from tkinter import font as tkFont\n",
    "import tkinter as tk"
   ]
  },
  {
   "cell_type": "code",
   "execution_count": 33,
   "metadata": {},
   "outputs": [],
   "source": [
    "def masking(img):\n",
    "    image_heigth = img.shape[0]\n",
    "    image_width = img.shape[1]\n",
    "\n",
    "    region_of_interest_vertices = [\n",
    "        (0, image_heigth),\n",
    "        (image_width/2, image_heigth/2),\n",
    "        (image_width, image_heigth)\n",
    "    ]\n",
    "\n",
    "    mask = np.zeros_like(img)\n",
    "    match_mask_color = 255\n",
    "    cv2.fillPoly(mask, np.array([region_of_interest_vertices], np.int32), match_mask_color)\n",
    "    masked_image = cv2.bitwise_and(img, mask)\n",
    "    return masked_image\n"
   ]
  },
  {
   "cell_type": "code",
   "execution_count": 34,
   "metadata": {},
   "outputs": [],
   "source": [
    "def diffimg(t0, t1, t2):\n",
    "    t0_masked = masking(t0)\n",
    "    t1_masked = masking(t1)\n",
    "    t2_masked = masking(t2)\n",
    "\n",
    "    d1 = cv2.absdiff(t2_masked, t1_masked)\n",
    "    d2 = cv2.absdiff(t1_masked, t0_masked)\n",
    "    result = cv2.bitwise_and(d1, d2)\n",
    "    ret, binary = cv2.threshold(result, 10, 255, cv2.THRESH_BINARY)\n",
    "    return binary"
   ]
  },
  {
   "cell_type": "code",
   "execution_count": 36,
   "metadata": {},
   "outputs": [],
   "source": [
    "input_video = cv2.VideoCapture(\"DashCam2.mp4\")\n",
    "\n",
    "t1 = cv2.cvtColor(input_video.read()[1], cv2.COLOR_RGB2GRAY)\n",
    "t = cv2.cvtColor(input_video.read()[1], cv2.COLOR_RGB2GRAY)\n",
    "t2 = cv2.cvtColor(input_video.read()[1], cv2.COLOR_RGB2GRAY)\n",
    "\n",
    "while True:\n",
    "    cv2.imshow(\"Diff\", diffimg(t1, t, t2))\n",
    "    t1 = t\n",
    "    t = t2\n",
    "    t2 = cv2.cvtColor(input_video.read()[1], cv2.COLOR_RGB2GRAY)\n",
    "\n",
    "    key = cv2.waitKey(10)\n",
    "    if key == 27:\n",
    "        cv2.destroyAllWindows()\n",
    "        break"
   ]
  },
  {
   "cell_type": "code",
   "execution_count": null,
   "metadata": {},
   "outputs": [],
   "source": []
  }
 ],
 "metadata": {
  "kernelspec": {
   "display_name": "Python 3",
   "language": "python",
   "name": "python3"
  },
  "language_info": {
   "codemirror_mode": {
    "name": "ipython",
    "version": 3
   },
   "file_extension": ".py",
   "mimetype": "text/x-python",
   "name": "python",
   "nbconvert_exporter": "python",
   "pygments_lexer": "ipython3",
   "version": "3.11.2"
  },
  "orig_nbformat": 4
 },
 "nbformat": 4,
 "nbformat_minor": 2
}
